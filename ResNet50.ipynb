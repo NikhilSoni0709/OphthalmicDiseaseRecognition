{
 "cells": [
  {
   "cell_type": "code",
   "execution_count": 1,
   "id": "ba0fd175",
   "metadata": {},
   "outputs": [],
   "source": [
    "from tensorflow.keras.layers import Conv2D,Flatten,Dense,MaxPool2D,BatchNormalization,GlobalAveragePooling2D\n",
    "from tensorflow.keras.applications.resnet50 import preprocess_input, decode_predictions\n",
    "from tensorflow.keras.applications.resnet50 import ResNet50\n",
    "from tensorflow.keras.preprocessing.image import ImageDataGenerator,load_img\n",
    "from tensorflow.keras.preprocessing import image\n",
    "from tensorflow.keras.models import Sequential\n",
    "from tensorflow.keras.models import Model\n",
    "import matplotlib.pyplot as plt\n",
    "from matplotlib.pyplot import figure\n",
    "import numpy as np"
   ]
  },
  {
   "cell_type": "code",
   "execution_count": 2,
   "id": "27e72119",
   "metadata": {},
   "outputs": [],
   "source": [
    "img_height, img_width = (224,224)\n",
    "batch_size = 16\n",
    "\n",
    "train_data_dir = r\"./DataSplit/train\"\n",
    "valid_data_dir = r\"./DataSplit/val\"\n",
    "test_data_dir = r\"./DataSplit/test\""
   ]
  },
  {
   "cell_type": "code",
   "execution_count": 3,
   "id": "1dda1d38",
   "metadata": {},
   "outputs": [
    {
     "name": "stdout",
     "output_type": "stream",
     "text": [
      "Found 219 images belonging to 4 classes.\n",
      "Found 18 images belonging to 4 classes.\n"
     ]
    }
   ],
   "source": [
    "train_datagen = ImageDataGenerator(preprocessing_function = preprocess_input,\n",
    "                                  shear_range = 0.2,\n",
    "                                  zoom_range = 0.2,\n",
    "                                  validation_split = 0.2,\n",
    "                                  horizontal_flip=True,)\n",
    "\n",
    "train_generator = train_datagen.flow_from_directory(train_data_dir,\n",
    "                                                   target_size = (img_height,img_width),\n",
    "                                                   batch_size = batch_size,\n",
    "                                                   class_mode = 'categorical',\n",
    "                                                   subset = 'training')\n",
    "\n",
    "valid_generator = train_datagen.flow_from_directory(valid_data_dir,\n",
    "                                                   target_size = (img_height,img_width),\n",
    "                                                   batch_size = batch_size,\n",
    "                                                   class_mode = 'categorical',\n",
    "                                                   subset = 'validation')"
   ]
  },
  {
   "cell_type": "code",
   "execution_count": 4,
   "id": "722f4e1b",
   "metadata": {},
   "outputs": [
    {
     "data": {
      "text/plain": [
       "4"
      ]
     },
     "execution_count": 4,
     "metadata": {},
     "output_type": "execute_result"
    }
   ],
   "source": [
    "train_generator.num_classes"
   ]
  },
  {
   "cell_type": "code",
   "execution_count": 5,
   "id": "0f3d48bf",
   "metadata": {},
   "outputs": [
    {
     "name": "stdout",
     "output_type": "stream",
     "text": [
      "Found 92 images belonging to 4 classes.\n"
     ]
    }
   ],
   "source": [
    "test_generator = train_datagen.flow_from_directory(test_data_dir,\n",
    "                                                  target_size = (img_height,img_width),\n",
    "                                                  batch_size = 1,\n",
    "                                                  class_mode = 'categorical',)"
   ]
  },
  {
   "cell_type": "code",
   "execution_count": 6,
   "id": "9f61d988",
   "metadata": {},
   "outputs": [
    {
     "data": {
      "text/plain": [
       "(1, 224, 224, 3)"
      ]
     },
     "execution_count": 6,
     "metadata": {},
     "output_type": "execute_result"
    }
   ],
   "source": [
    "x,y = test_generator.next()\n",
    "x.shape"
   ]
  },
  {
   "cell_type": "code",
   "execution_count": 7,
   "id": "f7959e45",
   "metadata": {},
   "outputs": [
    {
     "name": "stderr",
     "output_type": "stream",
     "text": [
      "2022-04-30 00:39:09.138078: I tensorflow/core/platform/cpu_feature_guard.cc:142] This TensorFlow binary is optimized with oneAPI Deep Neural Network Library (oneDNN) to use the following CPU instructions in performance-critical operations:  AVX2 FMA\n",
      "To enable them in other operations, rebuild TensorFlow with the appropriate compiler flags.\n",
      "2022-04-30 00:39:11.839992: I tensorflow/compiler/mlir/mlir_graph_optimization_pass.cc:185] None of the MLIR Optimization Passes are enabled (registered 2)\n"
     ]
    },
    {
     "name": "stdout",
     "output_type": "stream",
     "text": [
      "Epoch 1/5\n",
      "14/14 [==============================] - 25s 2s/step - loss: 1.9672 - accuracy: 0.5571 - val_loss: 0.7312 - val_accuracy: 0.7778\n",
      "Epoch 2/5\n",
      "14/14 [==============================] - 22s 2s/step - loss: 0.3824 - accuracy: 0.8721 - val_loss: 0.1591 - val_accuracy: 0.9444\n",
      "Epoch 3/5\n",
      "14/14 [==============================] - 22s 2s/step - loss: 0.1251 - accuracy: 0.9543 - val_loss: 0.0482 - val_accuracy: 1.0000\n",
      "Epoch 4/5\n",
      "14/14 [==============================] - 22s 2s/step - loss: 0.1002 - accuracy: 0.9772 - val_loss: 0.0218 - val_accuracy: 1.0000\n",
      "Epoch 5/5\n",
      "14/14 [==============================] - 21s 1s/step - loss: 0.0410 - accuracy: 0.9954 - val_loss: 0.3180 - val_accuracy: 0.9444\n"
     ]
    }
   ],
   "source": [
    "base_model = ResNet50(include_top=False, weights = 'imagenet')\n",
    "x = base_model.output\n",
    "x = GlobalAveragePooling2D()(x)\n",
    "x = Dense(1024,activation = 'relu')(x)\n",
    "predictions = Dense(train_generator.num_classes, activation='softmax')(x)\n",
    "model = Model(inputs=base_model.input,outputs=predictions)\n",
    "\n",
    "for layer in base_model.layers:\n",
    "    layer.trainable = False\n",
    "    \n",
    "model.compile(optimizer = 'adam', loss = 'categorical_crossentropy',metrics = ['accuracy'])\n",
    "\n",
    "obj = model.fit(train_generator,validation_data=valid_generator, epochs = 5)"
   ]
  },
  {
   "cell_type": "code",
   "execution_count": 8,
   "id": "aa6dfb55",
   "metadata": {},
   "outputs": [
    {
     "data": {
      "image/png": "[encoded data removed]",
      "text/plain": [
       "<Figure size 576x360 with 1 Axes>"
      ]
     },
     "metadata": {
      "needs_background": "light"
     },
     "output_type": "display_data"
    }
   ],
   "source": [
    "plt.figure(figsize=(8,5))\n",
    "\n",
    "plt.plot(obj.history['accuracy'])\n",
    "plt.plot(obj.history['val_accuracy'])\n",
    "plt.title('Model Accuracy')\n",
    "plt.ylabel('Accuracy')\n",
    "plt.xlabel('Epoch')\n",
    "plt.legend(['Train', 'Validation'], loc='upper left')\n",
    "plt.gca().ticklabel_format(axis='both', style='plain', useOffset=False)\n",
    "plt.show()"
   ]
  },
  {
   "cell_type": "code",
   "execution_count": 9,
   "id": "544192e7",
   "metadata": {},
   "outputs": [],
   "source": [
    "# model.save(r\"./Models/ResNet50.h5\")\n"
   ]
  },
  {
   "cell_type": "code",
   "execution_count": 9,
   "id": "4163db9c",
   "metadata": {},
   "outputs": [
    {
     "name": "stdout",
     "output_type": "stream",
     "text": [
      "92/92 - 12s - loss: 0.1236 - accuracy: 0.9565\n",
      "\n",
      "Test accuracy:  0.95652174949646\n"
     ]
    }
   ],
   "source": [
    "test_loss, test_acc = model.evaluate(test_generator, verbose=2)\n",
    "\n",
    "print(\"\\nTest accuracy: \",test_acc)"
   ]
  },
  {
   "cell_type": "code",
   "execution_count": 8,
   "id": "3214dfad",
   "metadata": {},
   "outputs": [
    {
     "name": "stderr",
     "output_type": "stream",
     "text": [
      "2022-03-14 22:40:29.201339: I tensorflow/compiler/mlir/mlir_graph_optimization_pass.cc:185] None of the MLIR Optimization Passes are enabled (registered 2)\n"
     ]
    },
    {
     "data": {
      "image/png": "[encoded data removed]",
      "text/plain": [
       "<Figure size 504x360 with 2 Axes>"
      ]
     },
     "metadata": {
      "needs_background": "light"
     },
     "output_type": "display_data"
    }
   ],
   "source": [
    "import pandas as pd\n",
    "import seaborn as sn\n",
    "import tensorflow as tf\n",
    "\n",
    "model = tf.keras.models.load_model(r\"./Models/ResNet50.h5\")\n",
    "filenames = test_generator.filenames\n",
    "\n",
    "\n",
    "nb_samples = len(test_generator)\n",
    "y_prob = []\n",
    "y_act = []\n",
    "figure(figsize=(7, 5))\n",
    "test_generator.reset()\n",
    "for _ in range(nb_samples):\n",
    "    X_test,Y_test = test_generator.next()\n",
    "    y_prob.append(model.predict(X_test))\n",
    "    y_act.append(Y_test)\n",
    "    \n",
    "predicted_class = [list(train_generator.class_indices.keys())[i.argmax()] for i in y_prob]\n",
    "actual_class = [list(train_generator.class_indices.keys())[i.argmax()] for i in y_act]\n",
    "\n",
    "\n",
    "\n",
    "out_df = pd.DataFrame(np.vstack([predicted_class,actual_class]).T,columns=['predicted_class','actual_class'])\n",
    "confusion_matrix = pd.crosstab(out_df['actual_class'],out_df['predicted_class'],rownames=['Actual'],colnames=['Predicted'])\n",
    "\n",
    "sn.heatmap(confusion_matrix,cmap='Blues',annot=True, fmt='d' )\n",
    "\n",
    "plt.show()\n"
   ]
  },
  {
   "cell_type": "code",
   "execution_count": 12,
   "id": "039c965d",
   "metadata": {},
   "outputs": [],
   "source": [
    "correctPredictions = {'ARMD' : confusion_matrix['ARMD']['ARMD'], 'DR' : confusion_matrix['DR']['DR'], 'Glaucoma' : confusion_matrix['Glaucoma']['Glaucoma'], 'Healthy' : confusion_matrix['Healthy']['Healthy']}\n"
   ]
  },
  {
   "cell_type": "code",
   "execution_count": 23,
   "id": "5994cbff",
   "metadata": {},
   "outputs": [
    {
     "name": "stdout",
     "output_type": "stream",
     "text": [
      "{'ARMD': 26, 'DR': 26, 'Glaucoma': 20, 'Healthy': 20}\n"
     ]
    }
   ],
   "source": [
    "deNames = ['ARMD','DR','Glaucoma','Healthy']\n",
    "totalCases = {'ARMD' : 0,'DR' : 0,'Glaucoma': 0,'Healthy': 0}\n",
    "for name in deNames:\n",
    "    for i in range(0,len(confusion_matrix[name])):\n",
    "        if(i == 0):\n",
    "            totalCases['ARMD'] += confusion_matrix[name][i]\n",
    "        elif(i == 1):\n",
    "            totalCases['DR'] += confusion_matrix[name][i]\n",
    "        elif(i == 2):\n",
    "            totalCases['Glaucoma'] += confusion_matrix[name][i]\n",
    "        else:\n",
    "            totalCases['Healthy'] += confusion_matrix[name][i]\n",
    "print(totalCases)"
   ]
  },
  {
   "cell_type": "code",
   "execution_count": 29,
   "id": "67e0b226",
   "metadata": {},
   "outputs": [
    {
     "name": "stdout",
     "output_type": "stream",
     "text": [
      "Test Accuracies : \n",
      "\n",
      "ARMD      : 1.0\n",
      "DR        : 0.8846153846153846\n",
      "Glaucoma  : 1.0\n",
      "Healthy   : 1.0\n"
     ]
    }
   ],
   "source": [
    "print(\"Test Accuracies : \\n\")\n",
    "print(\"ARMD      :\",correctPredictions['ARMD']/totalCases['ARMD'])\n",
    "print(\"DR        :\",correctPredictions['DR']/totalCases['DR'])\n",
    "print(\"Glaucoma  :\",correctPredictions['Glaucoma']/totalCases['Glaucoma'])\n",
    "print(\"Healthy   :\",correctPredictions['Healthy']/totalCases['Healthy'])"
   ]
  },
  {
   "cell_type": "code",
   "execution_count": 14,
   "id": "de31f87f",
   "metadata": {},
   "outputs": [
    {
     "name": "stdout",
     "output_type": "stream",
     "text": [
      "   predicted_class actual_class\n",
      "0          Healthy      Healthy\n",
      "1               DR           DR\n",
      "2             ARMD         ARMD\n",
      "3             ARMD         ARMD\n",
      "4             ARMD         ARMD\n",
      "5          Healthy      Healthy\n",
      "6          Healthy      Healthy\n",
      "7               DR           DR\n",
      "8               DR           DR\n",
      "9             ARMD         ARMD\n",
      "10         Healthy      Healthy\n",
      "11         Healthy      Healthy\n",
      "12              DR           DR\n",
      "13              DR           DR\n",
      "14        Glaucoma     Glaucoma\n",
      "15            ARMD         ARMD\n",
      "16        Glaucoma     Glaucoma\n",
      "17         Healthy      Healthy\n",
      "18        Glaucoma     Glaucoma\n",
      "19         Healthy      Healthy\n",
      "20            ARMD         ARMD\n",
      "21              DR           DR\n",
      "22            ARMD         ARMD\n",
      "23            ARMD         ARMD\n",
      "24            ARMD         ARMD\n",
      "25              DR           DR\n",
      "26         Healthy      Healthy\n",
      "27              DR           DR\n",
      "28              DR           DR\n",
      "29         Healthy      Healthy\n",
      "30        Glaucoma     Glaucoma\n",
      "31        Glaucoma     Glaucoma\n",
      "32            ARMD         ARMD\n",
      "33              DR           DR\n",
      "34         Healthy      Healthy\n",
      "35            ARMD         ARMD\n",
      "36            ARMD         ARMD\n",
      "37        Glaucoma     Glaucoma\n",
      "38        Glaucoma     Glaucoma\n",
      "39         Healthy      Healthy\n",
      "40              DR           DR\n",
      "41         Healthy      Healthy\n",
      "42        Glaucoma     Glaucoma\n",
      "43        Glaucoma     Glaucoma\n",
      "44        Glaucoma     Glaucoma\n",
      "45            ARMD         ARMD\n",
      "46        Glaucoma     Glaucoma\n",
      "47         Healthy      Healthy\n",
      "48            ARMD         ARMD\n",
      "49              DR           DR\n",
      "50              DR           DR\n",
      "51              DR           DR\n",
      "52              DR           DR\n",
      "53              DR           DR\n",
      "54        Glaucoma     Glaucoma\n",
      "55        Glaucoma     Glaucoma\n",
      "56            ARMD         ARMD\n",
      "57         Healthy      Healthy\n",
      "58            ARMD         ARMD\n",
      "59              DR           DR\n",
      "60            ARMD         ARMD\n",
      "61        Glaucoma     Glaucoma\n",
      "62            ARMD         ARMD\n",
      "63        Glaucoma     Glaucoma\n",
      "64              DR           DR\n",
      "65              DR           DR\n",
      "66            ARMD         ARMD\n",
      "67        Glaucoma     Glaucoma\n",
      "68        Glaucoma     Glaucoma\n",
      "69         Healthy           DR\n",
      "70        Glaucoma     Glaucoma\n",
      "71         Healthy      Healthy\n",
      "72              DR           DR\n",
      "73              DR           DR\n",
      "74            ARMD         ARMD\n",
      "75            ARMD         ARMD\n",
      "76         Healthy      Healthy\n",
      "77        Glaucoma     Glaucoma\n",
      "78            ARMD         ARMD\n",
      "79         Healthy      Healthy\n",
      "80         Healthy      Healthy\n",
      "81            ARMD         ARMD\n",
      "82              DR           DR\n",
      "83            ARMD         ARMD\n",
      "84        Glaucoma     Glaucoma\n",
      "85            ARMD         ARMD\n",
      "86              DR           DR\n",
      "87              DR           DR\n",
      "88         Healthy      Healthy\n",
      "89              DR           DR\n",
      "90         Healthy      Healthy\n",
      "91            ARMD         ARMD\n"
     ]
    }
   ],
   "source": [
    "pd.set_option('display.max_rows', None)\n",
    "print(out_df)"
   ]
  },
  {
   "cell_type": "code",
   "execution_count": 77,
   "id": "fae6d429",
   "metadata": {},
   "outputs": [],
   "source": []
  }
 ],
 "metadata": {
  "kernelspec": {
   "display_name": "Python 3",
   "language": "python",
   "name": "python3"
  },
  "language_info": {
   "codemirror_mode": {
    "name": "ipython",
    "version": 3
   },
   "file_extension": ".py",
   "mimetype": "text/x-python",
   "name": "python",
   "nbconvert_exporter": "python",
   "pygments_lexer": "ipython3",
   "version": "3.8.8"
  }
 },
 "nbformat": 4,
 "nbformat_minor": 5
}
