{
 "cells": [
  {
   "cell_type": "code",
   "execution_count": 1,
   "id": "cd5f96fd",
   "metadata": {},
   "outputs": [],
   "source": [
    "from tensorflow.keras.layers import Conv2D,Flatten,Dense,MaxPool2D,BatchNormalization,GlobalAveragePooling2D\n",
    "from tensorflow.keras.applications.resnet50 import preprocess_input, decode_predictions\n",
    "from tensorflow.keras.preprocessing.image import ImageDataGenerator,load_img\n",
    "from tensorflow.keras.preprocessing import image\n",
    "from tensorflow.keras.models import Sequential\n",
    "from tensorflow.keras.models import Model\n",
    "import matplotlib.pyplot as plt\n",
    "from matplotlib.pyplot import figure\n",
    "import numpy as np\n",
    "from keras import applications"
   ]
  },
  {
   "cell_type": "code",
   "execution_count": 2,
   "id": "7e13d3db",
   "metadata": {},
   "outputs": [],
   "source": [
    "img_height, img_width = (224,224)\n",
    "batch_size = 16\n",
    "\n",
    "train_data_dir = r\"./DataSplit/train\"\n",
    "valid_data_dir = r\"./DataSplit/val\"\n",
    "test_data_dir = r\"./DataSplit/test\""
   ]
  },
  {
   "cell_type": "code",
   "execution_count": 3,
   "id": "ba0f70d3",
   "metadata": {},
   "outputs": [
    {
     "name": "stdout",
     "output_type": "stream",
     "text": [
      "Found 219 images belonging to 4 classes.\n",
      "Found 18 images belonging to 4 classes.\n"
     ]
    }
   ],
   "source": [
    "train_datagen = ImageDataGenerator(preprocessing_function = preprocess_input,\n",
    "                                  shear_range = 0.2,\n",
    "                                  zoom_range = 0.2,\n",
    "                                  validation_split = 0.2,\n",
    "                                  horizontal_flip=True,)\n",
    "\n",
    "train_generator = train_datagen.flow_from_directory(train_data_dir,\n",
    "                                                   target_size = (img_height,img_width),\n",
    "                                                   batch_size = batch_size,\n",
    "                                                   class_mode = 'categorical',\n",
    "                                                   subset = 'training')\n",
    "\n",
    "valid_generator = train_datagen.flow_from_directory(valid_data_dir,\n",
    "                                                   target_size = (img_height,img_width),\n",
    "                                                   batch_size = batch_size,\n",
    "                                                   class_mode = 'categorical',\n",
    "                                                   subset = 'validation')"
   ]
  },
  {
   "cell_type": "code",
   "execution_count": 4,
   "id": "bc2ec57e",
   "metadata": {},
   "outputs": [
    {
     "name": "stdout",
     "output_type": "stream",
     "text": [
      "Found 92 images belonging to 4 classes.\n"
     ]
    }
   ],
   "source": [
    "test_generator = train_datagen.flow_from_directory(test_data_dir,\n",
    "                                                  target_size = (img_height,img_width),\n",
    "                                                  batch_size = 1,\n",
    "                                                  class_mode = 'categorical',)"
   ]
  },
  {
   "cell_type": "code",
   "execution_count": 5,
   "id": "c67008c4",
   "metadata": {},
   "outputs": [
    {
     "name": "stdout",
     "output_type": "stream",
     "text": [
      "4\n"
     ]
    }
   ],
   "source": [
    "x,y = test_generator.next()\n",
    "x.shape\n",
    "\n",
    "print(train_generator.num_classes)"
   ]
  },
  {
   "cell_type": "code",
   "execution_count": 6,
   "id": "f946ae26",
   "metadata": {},
   "outputs": [
    {
     "name": "stderr",
     "output_type": "stream",
     "text": [
      "2022-03-14 11:16:55.595824: I tensorflow/core/platform/cpu_feature_guard.cc:142] This TensorFlow binary is optimized with oneAPI Deep Neural Network Library (oneDNN) to use the following CPU instructions in performance-critical operations:  AVX2 FMA\n",
      "To enable them in other operations, rebuild TensorFlow with the appropriate compiler flags.\n"
     ]
    },
    {
     "name": "stdout",
     "output_type": "stream",
     "text": [
      "Downloading data from https://storage.googleapis.com/tensorflow/keras-applications/densenet/densenet201_weights_tf_dim_ordering_tf_kernels_notop.h5\n",
      "74842112/74836368 [==============================] - 20s 0us/step\n",
      "74850304/74836368 [==============================] - 20s 0us/step\n"
     ]
    },
    {
     "name": "stderr",
     "output_type": "stream",
     "text": [
      "2022-03-14 11:17:21.450460: I tensorflow/compiler/mlir/mlir_graph_optimization_pass.cc:185] None of the MLIR Optimization Passes are enabled (registered 2)\n"
     ]
    },
    {
     "name": "stdout",
     "output_type": "stream",
     "text": [
      "Epoch 1/5\n",
      "14/14 [==============================] - 41s 2s/step - loss: 6.8982 - accuracy: 0.4977 - val_loss: 0.8348 - val_accuracy: 0.8889\n",
      "Epoch 2/5\n",
      "14/14 [==============================] - 32s 2s/step - loss: 1.2394 - accuracy: 0.7671 - val_loss: 0.5185 - val_accuracy: 0.8333\n",
      "Epoch 3/5\n",
      "14/14 [==============================] - 33s 2s/step - loss: 0.9837 - accuracy: 0.8128 - val_loss: 0.8413 - val_accuracy: 0.7778\n",
      "Epoch 4/5\n",
      "14/14 [==============================] - 34s 2s/step - loss: 0.5262 - accuracy: 0.9087 - val_loss: 1.3199 - val_accuracy: 0.7222\n",
      "Epoch 5/5\n",
      "14/14 [==============================] - 34s 2s/step - loss: 0.6858 - accuracy: 0.8995 - val_loss: 0.2331 - val_accuracy: 0.9444\n"
     ]
    }
   ],
   "source": [
    "base_model = applications.densenet.DenseNet201(include_top=False, weights = 'imagenet')\n",
    "x = base_model.output\n",
    "x = GlobalAveragePooling2D()(x)\n",
    "x = Dense(1024,activation = 'relu')(x)\n",
    "predictions = Dense(train_generator.num_classes, activation='softmax')(x)\n",
    "model = Model(inputs=base_model.input,outputs=predictions)\n",
    "\n",
    "for layer in base_model.layers:\n",
    "    layer.trainable = False\n",
    "    \n",
    "model.compile(optimizer = 'adam', loss = 'categorical_crossentropy',metrics = ['accuracy'])\n",
    "\n",
    "obj = model.fit(train_generator,validation_data=valid_generator, epochs = 5)"
   ]
  },
  {
   "cell_type": "code",
   "execution_count": 7,
   "id": "6a9848e4",
   "metadata": {},
   "outputs": [
    {
     "data": {
      "image/png": "[encoded data removed]",
      "text/plain": [
       "<Figure size 576x360 with 1 Axes>"
      ]
     },
     "metadata": {
      "needs_background": "light"
     },
     "output_type": "display_data"
    }
   ],
   "source": [
    "plt.figure(figsize=(8,5))\n",
    "\n",
    "plt.plot(obj.history['accuracy'])\n",
    "plt.plot(obj.history['val_accuracy'])\n",
    "plt.title('Model Accuracy')\n",
    "plt.ylabel('Accuracy')\n",
    "plt.xlabel('Epoch')\n",
    "plt.legend(['Train', 'Validation'], loc='upper left')\n",
    "plt.gca().ticklabel_format(axis='both', style='plain', useOffset=False)\n",
    "plt.show()"
   ]
  },
  {
   "cell_type": "code",
   "execution_count": 8,
   "id": "3e626f75",
   "metadata": {},
   "outputs": [],
   "source": [
    "model.save(r\"./Models/DenseNet.h5\")"
   ]
  },
  {
   "cell_type": "code",
   "execution_count": 9,
   "id": "9692aac0",
   "metadata": {},
   "outputs": [
    {
     "name": "stdout",
     "output_type": "stream",
     "text": [
      "92/92 - 16s - loss: 0.4963 - accuracy: 0.9130\n",
      "\n",
      "Test accuracy:  0.9130434989929199\n"
     ]
    }
   ],
   "source": [
    "test_loss, test_acc = model.evaluate(test_generator, verbose=2)\n",
    "\n",
    "print(\"\\nTest accuracy: \",test_acc)"
   ]
  },
  {
   "cell_type": "code",
   "execution_count": 5,
   "id": "0f7360a6",
   "metadata": {},
   "outputs": [
    {
     "name": "stderr",
     "output_type": "stream",
     "text": [
      "2022-03-14 23:00:22.299889: I tensorflow/core/platform/cpu_feature_guard.cc:142] This TensorFlow binary is optimized with oneAPI Deep Neural Network Library (oneDNN) to use the following CPU instructions in performance-critical operations:  AVX2 FMA\n",
      "To enable them in other operations, rebuild TensorFlow with the appropriate compiler flags.\n",
      "2022-03-14 23:00:26.744535: I tensorflow/compiler/mlir/mlir_graph_optimization_pass.cc:185] None of the MLIR Optimization Passes are enabled (registered 2)\n"
     ]
    },
    {
     "data": {
      "image/png": "[encoded data removed]",
      "text/plain": [
       "<Figure size 504x360 with 2 Axes>"
      ]
     },
     "metadata": {
      "needs_background": "light"
     },
     "output_type": "display_data"
    }
   ],
   "source": [
    "import pandas as pd\n",
    "import seaborn as sn\n",
    "import tensorflow as tf\n",
    "\n",
    "model = tf.keras.models.load_model(r\"./Models/DenseNet.h5\")\n",
    "filenames = test_generator.filenames\n",
    "\n",
    "# print(filenames)\n",
    "\n",
    "nb_samples = len(test_generator)\n",
    "y_prob = []\n",
    "y_act = []\n",
    "figure(figsize=(7, 5))\n",
    "test_generator.reset()\n",
    "for _ in range(nb_samples):\n",
    "    X_test,Y_test = test_generator.next()\n",
    "    y_prob.append(model.predict(X_test))\n",
    "    y_act.append(Y_test)\n",
    "    \n",
    "predicted_class = [list(train_generator.class_indices.keys())[i.argmax()] for i in y_prob]\n",
    "actual_class = [list(train_generator.class_indices.keys())[i.argmax()] for i in y_act]\n",
    "\n",
    "# print(predicted_class)\n",
    "\n",
    "\n",
    "out_df = pd.DataFrame(np.vstack([predicted_class,actual_class]).T,columns=['predicted_class','actual_class'])\n",
    "confusion_matrix = pd.crosstab(out_df['actual_class'],out_df['predicted_class'],rownames=['Actual'],colnames=['Predicted'])\n",
    "\n",
    "sn.heatmap(confusion_matrix,cmap='Blues',annot=True, fmt='d' )\n",
    "\n",
    "plt.show()\n",
    "# print(\"test accuracy : {}\".format((np.diagonal(confusion_matrix).sum()/confusion_matrix.sum()*100)))"
   ]
  },
  {
   "cell_type": "code",
   "execution_count": 6,
   "id": "58ef4009",
   "metadata": {},
   "outputs": [
    {
     "name": "stdout",
     "output_type": "stream",
     "text": [
      "Test Accuracies : \n",
      "\n",
      "ARMD      : 1.0\n",
      "DR        : 0.8461538461538461\n",
      "Glaucoma  : 1.0\n",
      "Healthy   : 0.95\n"
     ]
    }
   ],
   "source": [
    "correctPredictions = {'ARMD' : confusion_matrix['ARMD']['ARMD'], 'DR' : confusion_matrix['DR']['DR'], 'Glaucoma' : confusion_matrix['Glaucoma']['Glaucoma'], 'Healthy' : confusion_matrix['Healthy']['Healthy']}\n",
    "\n",
    "deNames = ['ARMD','DR','Glaucoma','Healthy']\n",
    "totalCases = {'ARMD' : 0,'DR' : 0,'Glaucoma': 0,'Healthy': 0}\n",
    "for name in deNames:\n",
    "    for i in range(0,len(confusion_matrix[name])):\n",
    "        if(i == 0):\n",
    "            totalCases['ARMD'] += confusion_matrix[name][i]\n",
    "        elif(i == 1):\n",
    "            totalCases['DR'] += confusion_matrix[name][i]\n",
    "        elif(i == 2):\n",
    "            totalCases['Glaucoma'] += confusion_matrix[name][i]\n",
    "        else:\n",
    "            totalCases['Healthy'] += confusion_matrix[name][i]\n",
    "# print(totalCases)\n",
    "\n",
    "print(\"Test Accuracies : \\n\")\n",
    "print(\"ARMD      :\",correctPredictions['ARMD']/totalCases['ARMD'])\n",
    "print(\"DR        :\",correctPredictions['DR']/totalCases['DR'])\n",
    "print(\"Glaucoma  :\",correctPredictions['Glaucoma']/totalCases['Glaucoma'])\n",
    "print(\"Healthy   :\",correctPredictions['Healthy']/totalCases['Healthy'])"
   ]
  },
  {
   "cell_type": "code",
   "execution_count": null,
   "id": "546ffeab",
   "metadata": {},
   "outputs": [],
   "source": []
  }
 ],
 "metadata": {
  "kernelspec": {
   "display_name": "Python 3",
   "language": "python",
   "name": "python3"
  },
  "language_info": {
   "codemirror_mode": {
    "name": "ipython",
    "version": 3
   },
   "file_extension": ".py",
   "mimetype": "text/x-python",
   "name": "python",
   "nbconvert_exporter": "python",
   "pygments_lexer": "ipython3",
   "version": "3.8.8"
  }
 },
 "nbformat": 4,
 "nbformat_minor": 5
}
