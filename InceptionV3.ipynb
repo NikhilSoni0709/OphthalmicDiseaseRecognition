{
 "cells": [
  {
   "cell_type": "code",
   "execution_count": 1,
   "id": "f3a535af",
   "metadata": {},
   "outputs": [],
   "source": [
    "from tensorflow.keras.layers import Conv2D,Flatten,Dense,MaxPool2D,BatchNormalization,GlobalAveragePooling2D\n",
    "from tensorflow.keras.applications.resnet50 import preprocess_input, decode_predictions\n",
    "from tensorflow.keras.preprocessing.image import ImageDataGenerator,load_img\n",
    "from tensorflow.keras.preprocessing import image\n",
    "from tensorflow.keras.models import Sequential\n",
    "from tensorflow.keras.models import Model\n",
    "import matplotlib.pyplot as plt\n",
    "from matplotlib.pyplot import figure\n",
    "import numpy as np\n",
    "from keras import applications"
   ]
  },
  {
   "cell_type": "code",
   "execution_count": 2,
   "id": "1722e816",
   "metadata": {},
   "outputs": [],
   "source": [
    "img_height, img_width = (224,224)\n",
    "batch_size = 16\n",
    "\n",
    "train_data_dir = r\"./DataSplit/train\"\n",
    "valid_data_dir = r\"./DataSplit/val\"\n",
    "test_data_dir = r\"./DataSplit/test\""
   ]
  },
  {
   "cell_type": "code",
   "execution_count": 3,
   "id": "a332618c",
   "metadata": {},
   "outputs": [
    {
     "name": "stdout",
     "output_type": "stream",
     "text": [
      "Found 219 images belonging to 4 classes.\n",
      "Found 18 images belonging to 4 classes.\n"
     ]
    }
   ],
   "source": [
    "train_datagen = ImageDataGenerator(preprocessing_function = preprocess_input,\n",
    "                                  shear_range = 0.2,\n",
    "                                  zoom_range = 0.2,\n",
    "                                  validation_split = 0.2,\n",
    "                                  horizontal_flip=True,)\n",
    "\n",
    "train_generator = train_datagen.flow_from_directory(train_data_dir,\n",
    "                                                   target_size = (img_height,img_width),\n",
    "                                                   batch_size = batch_size,\n",
    "                                                   class_mode = 'categorical',\n",
    "                                                   subset = 'training')\n",
    "\n",
    "valid_generator = train_datagen.flow_from_directory(valid_data_dir,\n",
    "                                                   target_size = (img_height,img_width),\n",
    "                                                   batch_size = batch_size,\n",
    "                                                   class_mode = 'categorical',\n",
    "                                                   subset = 'validation')"
   ]
  },
  {
   "cell_type": "code",
   "execution_count": 4,
   "id": "dc5071cd",
   "metadata": {},
   "outputs": [
    {
     "name": "stdout",
     "output_type": "stream",
     "text": [
      "Found 92 images belonging to 4 classes.\n"
     ]
    }
   ],
   "source": [
    "test_generator = train_datagen.flow_from_directory(test_data_dir,\n",
    "                                                  target_size = (img_height,img_width),\n",
    "                                                  batch_size = 1,\n",
    "                                                  class_mode = 'categorical',)"
   ]
  },
  {
   "cell_type": "code",
   "execution_count": 5,
   "id": "1529478c",
   "metadata": {},
   "outputs": [
    {
     "data": {
      "text/plain": [
       "(1, 224, 224, 3)"
      ]
     },
     "execution_count": 5,
     "metadata": {},
     "output_type": "execute_result"
    }
   ],
   "source": [
    "x,y = test_generator.next()\n",
    "x.shape"
   ]
  },
  {
   "cell_type": "code",
   "execution_count": 6,
   "id": "9cab1a41",
   "metadata": {},
   "outputs": [
    {
     "name": "stderr",
     "output_type": "stream",
     "text": [
      "2022-03-14 11:12:55.327134: I tensorflow/core/platform/cpu_feature_guard.cc:142] This TensorFlow binary is optimized with oneAPI Deep Neural Network Library (oneDNN) to use the following CPU instructions in performance-critical operations:  AVX2 FMA\n",
      "To enable them in other operations, rebuild TensorFlow with the appropriate compiler flags.\n"
     ]
    },
    {
     "name": "stdout",
     "output_type": "stream",
     "text": [
      "Downloading data from https://storage.googleapis.com/tensorflow/keras-applications/inception_v3/inception_v3_weights_tf_dim_ordering_tf_kernels_notop.h5\n",
      "87916544/87910968 [==============================] - 17s 0us/step\n",
      "87924736/87910968 [==============================] - 17s 0us/step\n"
     ]
    },
    {
     "name": "stderr",
     "output_type": "stream",
     "text": [
      "2022-03-14 11:13:17.629703: I tensorflow/compiler/mlir/mlir_graph_optimization_pass.cc:185] None of the MLIR Optimization Passes are enabled (registered 2)\n"
     ]
    },
    {
     "name": "stdout",
     "output_type": "stream",
     "text": [
      "Epoch 1/5\n",
      "14/14 [==============================] - 20s 1s/step - loss: 16.0308 - accuracy: 0.3699 - val_loss: 4.2228 - val_accuracy: 0.3889\n",
      "Epoch 2/5\n",
      "14/14 [==============================] - 15s 1s/step - loss: 4.4427 - accuracy: 0.4840 - val_loss: 2.8765 - val_accuracy: 0.6111\n",
      "Epoch 3/5\n",
      "14/14 [==============================] - 16s 1s/step - loss: 2.8817 - accuracy: 0.5799 - val_loss: 0.9802 - val_accuracy: 0.7778\n",
      "Epoch 4/5\n",
      "14/14 [==============================] - 16s 1s/step - loss: 1.1258 - accuracy: 0.7169 - val_loss: 0.4839 - val_accuracy: 0.8889\n",
      "Epoch 5/5\n",
      "14/14 [==============================] - 16s 1s/step - loss: 0.5806 - accuracy: 0.7808 - val_loss: 0.2647 - val_accuracy: 0.7778\n"
     ]
    }
   ],
   "source": [
    "base_model = applications.inception_v3.InceptionV3(include_top=False, weights = 'imagenet')\n",
    "x = base_model.output\n",
    "x = GlobalAveragePooling2D()(x)\n",
    "x = Dense(1024,activation = 'relu')(x)\n",
    "predictions = Dense(train_generator.num_classes, activation='softmax')(x)\n",
    "model = Model(inputs=base_model.input,outputs=predictions)\n",
    "\n",
    "for layer in base_model.layers:\n",
    "    layer.trainable = False\n",
    "    \n",
    "model.compile(optimizer = 'adam', loss = 'categorical_crossentropy',metrics = ['accuracy'])\n",
    "\n",
    "obj = model.fit(train_generator,validation_data=valid_generator, epochs = 5)"
   ]
  },
  {
   "cell_type": "code",
   "execution_count": 7,
   "id": "6bbc796f",
   "metadata": {},
   "outputs": [
    {
     "data": {
      "image/png": "[encoded data removed]",
      "text/plain": [
       "<Figure size 576x360 with 1 Axes>"
      ]
     },
     "metadata": {
      "needs_background": "light"
     },
     "output_type": "display_data"
    }
   ],
   "source": [
    "plt.figure(figsize=(8,5))\n",
    "\n",
    "plt.plot(obj.history['accuracy'])\n",
    "plt.plot(obj.history['val_accuracy'])\n",
    "plt.title('Model Accuracy')\n",
    "plt.ylabel('Accuracy')\n",
    "plt.xlabel('Epoch')\n",
    "plt.legend(['Train', 'Validation'], loc='upper left')\n",
    "plt.gca().ticklabel_format(axis='both', style='plain', useOffset=False)\n",
    "plt.show()"
   ]
  },
  {
   "cell_type": "code",
   "execution_count": 8,
   "id": "2f5cb02b",
   "metadata": {},
   "outputs": [],
   "source": [
    "model.save(r\"./Models/InceptionV3.h5\")"
   ]
  },
  {
   "cell_type": "code",
   "execution_count": 9,
   "id": "b2b038d3",
   "metadata": {},
   "outputs": [
    {
     "name": "stdout",
     "output_type": "stream",
     "text": [
      "92/92 - 8s - loss: 0.8484 - accuracy: 0.7500\n",
      "\n",
      "Test accuracy:  0.75\n"
     ]
    }
   ],
   "source": [
    "test_loss, test_acc = model.evaluate(test_generator, verbose=2)\n",
    "\n",
    "print(\"\\nTest accuracy: \",test_acc)"
   ]
  },
  {
   "cell_type": "code",
   "execution_count": 5,
   "id": "ff5c2308",
   "metadata": {},
   "outputs": [
    {
     "name": "stderr",
     "output_type": "stream",
     "text": [
      "2022-03-14 23:01:20.950109: I tensorflow/core/platform/cpu_feature_guard.cc:142] This TensorFlow binary is optimized with oneAPI Deep Neural Network Library (oneDNN) to use the following CPU instructions in performance-critical operations:  AVX2 FMA\n",
      "To enable them in other operations, rebuild TensorFlow with the appropriate compiler flags.\n",
      "2022-03-14 23:01:22.970983: I tensorflow/compiler/mlir/mlir_graph_optimization_pass.cc:185] None of the MLIR Optimization Passes are enabled (registered 2)\n"
     ]
    },
    {
     "data": {
      "image/png": "[encoded data removed]",
      "text/plain": [
       "<Figure size 504x360 with 2 Axes>"
      ]
     },
     "metadata": {
      "needs_background": "light"
     },
     "output_type": "display_data"
    }
   ],
   "source": [
    "import pandas as pd\n",
    "import seaborn as sn\n",
    "import tensorflow as tf\n",
    "\n",
    "model = tf.keras.models.load_model(r\"./Models/InceptionV3.h5\")\n",
    "filenames = test_generator.filenames\n",
    "\n",
    "# print(filenames)\n",
    "\n",
    "nb_samples = len(test_generator)\n",
    "y_prob = []\n",
    "y_act = []\n",
    "figure(figsize=(7, 5))\n",
    "test_generator.reset()\n",
    "for _ in range(nb_samples):\n",
    "    X_test,Y_test = test_generator.next()\n",
    "    y_prob.append(model.predict(X_test))\n",
    "    y_act.append(Y_test)\n",
    "    \n",
    "predicted_class = [list(train_generator.class_indices.keys())[i.argmax()] for i in y_prob]\n",
    "actual_class = [list(train_generator.class_indices.keys())[i.argmax()] for i in y_act]\n",
    "\n",
    "# print([i for i in actaul_class])\n",
    "\n",
    "\n",
    "out_df = pd.DataFrame(np.vstack([predicted_class,actual_class]).T,columns=['predicted_class','actual_class'])\n",
    "confusion_matrix = pd.crosstab(out_df['actual_class'],out_df['predicted_class'],rownames=['Actual'],colnames=['Predicted'])\n",
    "\n",
    "sn.heatmap(confusion_matrix,cmap='Blues',annot=True, fmt='d' )\n",
    "\n",
    "plt.show()\n",
    "# print(\"test accuracy : {}\".format((np.diagonal(confusion_matrix).sum()/confusion_matrix.sum()*100)))"
   ]
  },
  {
   "cell_type": "code",
   "execution_count": 6,
   "id": "85bb0265",
   "metadata": {},
   "outputs": [
    {
     "name": "stdout",
     "output_type": "stream",
     "text": [
      "Test Accuracies : \n",
      "\n",
      "ARMD      : 0.8846153846153846\n",
      "DR        : 0.7692307692307693\n",
      "Glaucoma  : 0.8\n",
      "Healthy   : 0.35\n"
     ]
    }
   ],
   "source": [
    "correctPredictions = {'ARMD' : confusion_matrix['ARMD']['ARMD'], 'DR' : confusion_matrix['DR']['DR'], 'Glaucoma' : confusion_matrix['Glaucoma']['Glaucoma'], 'Healthy' : confusion_matrix['Healthy']['Healthy']}\n",
    "\n",
    "deNames = ['ARMD','DR','Glaucoma','Healthy']\n",
    "totalCases = {'ARMD' : 0,'DR' : 0,'Glaucoma': 0,'Healthy': 0}\n",
    "for name in deNames:\n",
    "    for i in range(0,len(confusion_matrix[name])):\n",
    "        if(i == 0):\n",
    "            totalCases['ARMD'] += confusion_matrix[name][i]\n",
    "        elif(i == 1):\n",
    "            totalCases['DR'] += confusion_matrix[name][i]\n",
    "        elif(i == 2):\n",
    "            totalCases['Glaucoma'] += confusion_matrix[name][i]\n",
    "        else:\n",
    "            totalCases['Healthy'] += confusion_matrix[name][i]\n",
    "# print(totalCases)\n",
    "\n",
    "print(\"Test Accuracies : \\n\")\n",
    "print(\"ARMD      :\",correctPredictions['ARMD']/totalCases['ARMD'])\n",
    "print(\"DR        :\",correctPredictions['DR']/totalCases['DR'])\n",
    "print(\"Glaucoma  :\",correctPredictions['Glaucoma']/totalCases['Glaucoma'])\n",
    "print(\"Healthy   :\",correctPredictions['Healthy']/totalCases['Healthy'])"
   ]
  },
  {
   "cell_type": "code",
   "execution_count": 11,
   "id": "636311de",
   "metadata": {},
   "outputs": [
    {
     "name": "stdout",
     "output_type": "stream",
     "text": [
      "   predicted_class actual_class\n",
      "0             ARMD         ARMD\n",
      "1          Healthy           DR\n",
      "2         Glaucoma     Glaucoma\n",
      "3          Healthy      Healthy\n",
      "4          Healthy      Healthy\n",
      "5          Healthy      Healthy\n",
      "6               DR           DR\n",
      "7               DR           DR\n",
      "8               DR           DR\n",
      "9         Glaucoma     Glaucoma\n",
      "10              DR           DR\n",
      "11              DR           DR\n",
      "12         Healthy      Healthy\n",
      "13              DR           DR\n",
      "14            ARMD           DR\n",
      "15            ARMD         ARMD\n",
      "16            ARMD         ARMD\n",
      "17              DR           DR\n",
      "18              DR           DR\n",
      "19         Healthy           DR\n",
      "20        Glaucoma     Glaucoma\n",
      "21            ARMD         ARMD\n",
      "22              DR      Healthy\n",
      "23        Glaucoma     Glaucoma\n",
      "24              DR           DR\n",
      "25            ARMD         ARMD\n",
      "26            ARMD         ARMD\n",
      "27            ARMD         ARMD\n",
      "28            ARMD         ARMD\n",
      "29              DR           DR\n",
      "30        Glaucoma     Glaucoma\n",
      "31        Glaucoma     Glaucoma\n",
      "32        Glaucoma     Glaucoma\n",
      "33        Glaucoma     Glaucoma\n",
      "34              DR           DR\n",
      "35         Healthy      Healthy\n",
      "36              DR         ARMD\n",
      "37              DR         ARMD\n",
      "38        Glaucoma     Glaucoma\n",
      "39        Glaucoma     Glaucoma\n",
      "40              DR           DR\n",
      "41         Healthy      Healthy\n",
      "42              DR           DR\n",
      "43            ARMD         ARMD\n",
      "44            ARMD         ARMD\n",
      "45         Healthy      Healthy\n",
      "46         Healthy     Glaucoma\n",
      "47         Healthy      Healthy\n",
      "48        Glaucoma      Healthy\n",
      "49            ARMD         ARMD\n",
      "50            ARMD         ARMD\n",
      "51              DR           DR\n",
      "52        Glaucoma           DR\n",
      "53         Healthy      Healthy\n",
      "54        Glaucoma     Glaucoma\n",
      "55            ARMD         ARMD\n",
      "56            ARMD         ARMD\n",
      "57         Healthy         ARMD\n",
      "58              DR      Healthy\n",
      "59              DR           DR\n",
      "60            ARMD         ARMD\n",
      "61         Healthy      Healthy\n",
      "62              DR           DR\n",
      "63            ARMD         ARMD\n",
      "64            ARMD         ARMD\n",
      "65        Glaucoma     Glaucoma\n",
      "66            ARMD         ARMD\n",
      "67        Glaucoma      Healthy\n",
      "68        Glaucoma     Glaucoma\n",
      "69        Glaucoma     Glaucoma\n",
      "70            ARMD         ARMD\n",
      "71         Healthy           DR\n",
      "72              DR      Healthy\n",
      "73              DR           DR\n",
      "74              DR           DR\n",
      "75            ARMD         ARMD\n",
      "76        Glaucoma     Glaucoma\n",
      "77            ARMD         ARMD\n",
      "78        Glaucoma      Healthy\n",
      "79        Glaucoma     Glaucoma\n",
      "80        Glaucoma     Glaucoma\n",
      "81              DR      Healthy\n",
      "82              DR           DR\n",
      "83              DR           DR\n",
      "84              DR      Healthy\n",
      "85              DR           DR\n",
      "86        Glaucoma     Glaucoma\n",
      "87            ARMD         ARMD\n",
      "88        Glaucoma     Glaucoma\n",
      "89              DR         ARMD\n",
      "90        Glaucoma      Healthy\n",
      "91            ARMD      Healthy\n"
     ]
    }
   ],
   "source": [
    "pd.set_option('display.max_rows', None)\n",
    "print(out_df)"
   ]
  },
  {
   "cell_type": "code",
   "execution_count": null,
   "id": "fed85331",
   "metadata": {},
   "outputs": [],
   "source": []
  }
 ],
 "metadata": {
  "kernelspec": {
   "display_name": "Python 3",
   "language": "python",
   "name": "python3"
  },
  "language_info": {
   "codemirror_mode": {
    "name": "ipython",
    "version": 3
   },
   "file_extension": ".py",
   "mimetype": "text/x-python",
   "name": "python",
   "nbconvert_exporter": "python",
   "pygments_lexer": "ipython3",
   "version": "3.8.8"
  }
 },
 "nbformat": 4,
 "nbformat_minor": 5
}
